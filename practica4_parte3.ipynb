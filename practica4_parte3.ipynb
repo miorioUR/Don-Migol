{
  "cells": [
    {
      "cell_type": "markdown",
      "metadata": {
        "id": "DLqZeLRaXrIY"
      },
      "source": [
        "# Práctica 4 Parte III. Reducción de la dimensionalidad"
      ]
    },
    {
      "cell_type": "markdown",
      "metadata": {
        "id": "_Awr0NXAXrId"
      },
      "source": [
        "Vamos a ver cómo funciona el algoritmo de PCA utilizado un dataset muy conocido en el mundo del aprendizaje automático: el dataset de los dígitos. \n",
        "\n",
        "El dataset de los dígitos está compuesto por 1797 imágenes de dígitos manuscritos de tamaño 8x8. Este dataset se utiliza normalmente para algoritmos de clasificación (que veremos más adelante), pero también es un buen ejemplo para ver los algoritmos de clustering y de reducción de dimensionalidad. \n",
        "\n",
        "Cada dígito viene representado por un vector de 64 componentes que corresponden a los valores de cada pixel del dígito. Para más información sobre este dataset ver: http://scikit-learn.org/stable/auto_examples/datasets/plot_digits_last_image.html."
      ]
    },
    {
      "cell_type": "markdown",
      "metadata": {
        "id": "VdD3C9U-XrIf"
      },
      "source": [
        "En esta parte de la práctica compararemos los resultados que se obtienen utilizando K-means y K-means combinado con PCA. Para ello empezamos cargando las librerías necesarias. "
      ]
    },
    {
      "cell_type": "code",
      "execution_count": 8,
      "metadata": {
        "id": "YiyWYyD0XrIk"
      },
      "outputs": [],
      "source": [
        "from sklearn.cluster import KMeans\n",
        "from sklearn.datasets import load_digits\n",
        "from sklearn.decomposition import PCA\n",
        "from sklearn.preprocessing import scale\n",
        "import numpy as np\n",
        "from matplotlib import pyplot as plt\n",
        "%matplotlib inline"
      ]
    },
    {
      "cell_type": "markdown",
      "metadata": {
        "id": "XrXHTdjRXrIs"
      },
      "source": [
        "Fijamos la semilla para obtener siempre los mismos resultados."
      ]
    },
    {
      "cell_type": "code",
      "execution_count": 9,
      "metadata": {
        "id": "JsEgWUotXrIu"
      },
      "outputs": [],
      "source": [
        "np.random.seed(42)"
      ]
    },
    {
      "cell_type": "markdown",
      "metadata": {
        "id": "5oEH3Gn7XrI1"
      },
      "source": [
        "Cargamos el dataset de los dígitos."
      ]
    },
    {
      "cell_type": "code",
      "execution_count": 10,
      "metadata": {
        "id": "OcVDnEAMXrI3"
      },
      "outputs": [],
      "source": [
        "digits = load_digits()"
      ]
    },
    {
      "cell_type": "markdown",
      "metadata": {
        "id": "rPzQSmokXrI-"
      },
      "source": [
        "Obtenemos los descriptores de las instancias y estandarizamos (veremos en qué consiste este proceso más adelante) el dataset."
      ]
    },
    {
      "cell_type": "code",
      "execution_count": 11,
      "metadata": {
        "id": "6Vouy_G_XrJA"
      },
      "outputs": [],
      "source": [
        "data = scale(digits.data)"
      ]
    },
    {
      "cell_type": "markdown",
      "metadata": {
        "id": "iPVwzx52XrJF"
      },
      "source": [
        "Mostramos el número de instancias del dataset y el número de descriptores."
      ]
    },
    {
      "cell_type": "code",
      "execution_count": 12,
      "metadata": {
        "colab": {
          "base_uri": "https://localhost:8080/"
        },
        "id": "TPg1y-0eXrJK",
        "outputId": "44a6d294-0b51-4ff4-cf5e-7dd42fd7b6a1"
      },
      "outputs": [
        {
          "output_type": "stream",
          "name": "stdout",
          "text": [
            "n_instancias 1797, n_descriptores 64\n"
          ]
        }
      ],
      "source": [
        "n_instancias, n_descriptores = data.shape\n",
        "print(\"n_instancias %d, n_descriptores %d\" % (n_instancias, n_descriptores))"
      ]
    },
    {
      "cell_type": "markdown",
      "metadata": {
        "id": "a5zIfm68XrJQ"
      },
      "source": [
        "Construimos el estimador K-means. Tenemos 10 clusters ya que de antemano sabemos que hay 10 posibles dígitos y por lo tanto 10 posibles grupos."
      ]
    },
    {
      "cell_type": "code",
      "execution_count": 19,
      "metadata": {
        "id": "GFpDQecsXrJS"
      },
      "outputs": [],
      "source": [
        "estimator = KMeans(n_clusters=10)"
      ]
    },
    {
      "cell_type": "markdown",
      "metadata": {
        "id": "N4UCohQlXrJZ"
      },
      "source": [
        "Realizamos la agrupación por clusters y mostramos el tiempo necesario"
      ]
    },
    {
      "cell_type": "code",
      "execution_count": 20,
      "metadata": {
        "colab": {
          "base_uri": "https://localhost:8080/"
        },
        "id": "xEZRwKPpXrJc",
        "outputId": "3954bd22-82b0-424c-f5cf-f7ff67e1e041"
      },
      "outputs": [
        {
          "output_type": "stream",
          "name": "stdout",
          "text": [
            "CPU times: user 552 ms, sys: 186 ms, total: 738 ms\n",
            "Wall time: 388 ms\n"
          ]
        },
        {
          "output_type": "execute_result",
          "data": {
            "text/plain": [
              "KMeans(n_clusters=10)"
            ]
          },
          "metadata": {},
          "execution_count": 20
        }
      ],
      "source": [
        "%%time \n",
        "estimator.fit(data)"
      ]
    },
    {
      "cell_type": "markdown",
      "metadata": {
        "id": "amED7EAqXrJi"
      },
      "source": [
        "Ahora definimos una función que nos indica para cada clase la distribución en clusters. Notad que los clusters no están ordenados."
      ]
    },
    {
      "cell_type": "code",
      "execution_count": 21,
      "metadata": {
        "id": "XFj54cqtXrJk"
      },
      "outputs": [],
      "source": [
        "def valida_digits(etiquetas_esperadas, etiquetas_obtenidas):\n",
        "    for i in range(0,10):\n",
        "        res = np.zeros(10).astype(\"uint8\")\n",
        "        for j,etiqueta in enumerate(etiquetas_esperadas):\n",
        "            if(etiqueta==i):\n",
        "                res[etiquetas_obtenidas[j]]+=1\n",
        "        print(\"Dígito \" + str(i) + \": \")\n",
        "        print(res)"
      ]
    },
    {
      "cell_type": "markdown",
      "metadata": {
        "id": "7Gcp_VAiXrJq"
      },
      "source": [
        "Mostramos la distribución de los dígitos."
      ]
    },
    {
      "cell_type": "code",
      "execution_count": 22,
      "metadata": {
        "id": "vdbje5V1XrJr",
        "outputId": "7dcfe3da-f5fd-473d-860a-7a5bae9f9afb",
        "colab": {
          "base_uri": "https://localhost:8080/"
        }
      },
      "outputs": [
        {
          "output_type": "stream",
          "name": "stdout",
          "text": [
            "Dígito 0: \n",
            "[  0   0   0   0 177   0   0   0   0   1]\n",
            "Dígito 1: \n",
            "[ 0 58  0 96  0  1  0 27  0  0]\n",
            "Dígito 2: \n",
            "[ 7  5  1 38  0 82  0 44  0  0]\n",
            "Dígito 3: \n",
            "[160   0   7   8   0   7   0   1   0   0]\n",
            "Dígito 4: \n",
            "[  0   7   4   2   0   1   9   0   0 158]\n",
            "Dígito 5: \n",
            "[77  4  4 14  0 76  0  0  4  3]\n",
            "Dígito 6: \n",
            "[  0   1   0   4   1   0   0   0 175   0]\n",
            "Dígito 7: \n",
            "[  0   3 152   0   0   6  18   0   0   0]\n",
            "Dígito 8: \n",
            "[44 15  2 99  0 11  0  0  3  0]\n",
            "Dígito 9: \n",
            "[146  19   8   2   0   2   3   0   0   0]\n"
          ]
        }
      ],
      "source": [
        "valida_digits(digits.target,estimator.labels_)"
      ]
    },
    {
      "cell_type": "markdown",
      "metadata": {
        "id": "pEtkDeQGXrJw"
      },
      "source": [
        "Repetimos el proceso pero esta vez aplicando el algoritmo de PCA tomando 20 componentes principales"
      ]
    },
    {
      "cell_type": "code",
      "execution_count": 17,
      "metadata": {
        "id": "fZAdRnxYXrJy",
        "outputId": "a8ea8d52-b7de-454c-b8e5-145b7a040e10",
        "colab": {
          "base_uri": "https://localhost:8080/"
        }
      },
      "outputs": [
        {
          "output_type": "stream",
          "name": "stdout",
          "text": [
            "CPU times: user 888 ms, sys: 347 ms, total: 1.24 s\n",
            "Wall time: 1.09 s\n"
          ]
        }
      ],
      "source": [
        "%%time \n",
        "pca = PCA(n_components=20).fit(data)\n",
        "data_r = pca.transform(data)\n",
        "estimator = KMeans(n_clusters=10)\n",
        "estimator.fit(data_r)"
      ]
    },
    {
      "cell_type": "code",
      "execution_count": 18,
      "metadata": {
        "id": "FgkSQYYsXrJ6",
        "outputId": "992c3171-d759-414b-985d-9485aa8e6a0b",
        "colab": {
          "base_uri": "https://localhost:8080/"
        }
      },
      "outputs": [
        {
          "output_type": "stream",
          "name": "stdout",
          "text": [
            "Dígito 0: \n",
            "[  0   0 177   0   0   0   0   1   0   0]\n",
            "Dígito 1: \n",
            "[58  0  0 96  0  0 27  0  0  1]\n",
            "Dígito 2: \n",
            "[ 6 78  0 36  0  0 51  0  4  2]\n",
            "Dígito 3: \n",
            "[  0  13   0   8   0   0   2   0 151   9]\n",
            "Dígito 4: \n",
            "[  7   0   0   4   9   0   0 157   0   4]\n",
            "Dígito 5: \n",
            "[ 2 42  0 61  0  3  0  2 70  2]\n",
            "Dígito 6: \n",
            "[  1   0   1   4   0 172   3   0   0   0]\n",
            "Dígito 7: \n",
            "[  3   8   0   0  17   0   0   1   0 150]\n",
            "Dígito 8: \n",
            "[16  8  0 97  0  3  0  0 47  3]\n",
            "Dígito 9: \n",
            "[ 19   0   0   4   3   0   3   0 142   9]\n"
          ]
        }
      ],
      "source": [
        "valida_digits(digits.target,estimator.labels_)"
      ]
    },
    {
      "cell_type": "markdown",
      "metadata": {
        "id": "Z8KQ5drNXrJ-"
      },
      "source": [
        "***\n",
        "## Ejercicio \n",
        "Compara los resultados tanto en tiempo, como en distribución de los clusters utilizando PCA y sin utilizarlo."
      ]
    },
    {
      "cell_type": "code",
      "source": [
        "%%time \n",
        "estimator1 = KMeans(n_clusters=10)\n",
        "estimator1.fit(data)"
      ],
      "metadata": {
        "id": "vNY-JTLOpVyF",
        "outputId": "7ed994d0-ab5d-477c-fac1-a8628e6fe3e2",
        "colab": {
          "base_uri": "https://localhost:8080/"
        }
      },
      "execution_count": 47,
      "outputs": [
        {
          "output_type": "stream",
          "name": "stdout",
          "text": [
            "CPU times: user 1.76 s, sys: 390 ms, total: 2.15 s\n",
            "Wall time: 1.84 s\n"
          ]
        }
      ]
    },
    {
      "cell_type": "code",
      "execution_count": 48,
      "metadata": {
        "id": "pIxR75i_XrJ_",
        "outputId": "34796119-f4cb-402a-99fd-2cd129102fb9",
        "colab": {
          "base_uri": "https://localhost:8080/"
        }
      },
      "outputs": [
        {
          "output_type": "stream",
          "name": "stdout",
          "text": [
            "CPU times: user 837 ms, sys: 289 ms, total: 1.13 s\n",
            "Wall time: 915 ms\n"
          ]
        }
      ],
      "source": [
        "%%time \n",
        "pca = PCA(n_components=20).fit(data)\n",
        "data_r = pca.transform(data)\n",
        "estimator2 = KMeans(n_clusters=10)\n",
        "estimator2.fit(data_r)"
      ]
    },
    {
      "cell_type": "markdown",
      "source": [
        "Con unos pocos tests, pca parece mas rapido pero no en todas las pruebas"
      ],
      "metadata": {
        "id": "LxeWN8nVTrt-"
      }
    },
    {
      "cell_type": "markdown",
      "metadata": {
        "id": "22bvfaYBXrKH"
      },
      "source": [
        "***"
      ]
    },
    {
      "cell_type": "markdown",
      "metadata": {
        "id": "ytIGSw97XrKI"
      },
      "source": [
        "Utilizando los siguientes comandos podemos ver el porcentaje de varianza explicado por cada una de las componentes de PCA y el total."
      ]
    },
    {
      "cell_type": "code",
      "execution_count": 24,
      "metadata": {
        "id": "Ryk8rfnJXrKK",
        "outputId": "f4370b80-8027-40dd-f6ea-7f697db3282b",
        "colab": {
          "base_uri": "https://localhost:8080/"
        }
      },
      "outputs": [
        {
          "output_type": "stream",
          "name": "stdout",
          "text": [
            "[0.12033916 0.09561054 0.08444415 0.06498408 0.04860155 0.0421412\n",
            " 0.03942083 0.0338938  0.02998218 0.02931999 0.02781802 0.02577053\n",
            " 0.0227529  0.02227158 0.02165106 0.01913676 0.01775422 0.01637672\n",
            " 0.01596214 0.01488264]\n",
            "Varianza total: 79.31140439157602%\n"
          ]
        }
      ],
      "source": [
        "print(pca.explained_variance_ratio_)\n",
        "print(\"Varianza total: \" + str(100*np.sum(pca.explained_variance_ratio_))+ \"%\")"
      ]
    },
    {
      "cell_type": "markdown",
      "metadata": {
        "id": "HtV3KN4bXrKQ"
      },
      "source": [
        "La siguiente función nos genera un gráfico mostrando la varianza acumulada y la varianza individual que se obtiene al considerar distintos valores como componentes principales (en concreto va tomando valores entre 1 y el número de descriptores). Además esta función muestra la varianza total para cada caso."
      ]
    },
    {
      "cell_type": "code",
      "execution_count": 25,
      "metadata": {
        "id": "RDm3uR0_XrKS"
      },
      "outputs": [],
      "source": [
        "def drawVarianza(data):\n",
        "    pcas = [PCA(n_components=k).fit(data) for k in range(1,len(data[0]))]\n",
        "    var = [pca.explained_variance_ratio_[-1] for pca in pcas]\n",
        "    varianzas = [np.sum(pca.explained_variance_ratio_) for pca in pcas]\n",
        "    for k in range(1,len(data[0])):\n",
        "        print(\"Varianza total (%s componentes): %s\" % (k,str(100 * varianzas[k-1])))\n",
        "    plt.clf()\n",
        "\n",
        "    plt.step(range(1,len(data[0])),varianzas,where='mid',label='varianza acumulada')\n",
        "    plt.bar(range(1,len(data[0])),var,alpha=0.5,align='center',label='varianza individual')\n",
        "    plt.xlabel('Componentes principales')\n",
        "    plt.ylabel('Ratio de varianza explicada')\n",
        "    plt.show()"
      ]
    },
    {
      "cell_type": "code",
      "execution_count": 26,
      "metadata": {
        "id": "SMSbcFAvXrKc",
        "outputId": "fbe45e01-b657-4a5e-a6bd-e6251fe5d8c3",
        "colab": {
          "base_uri": "https://localhost:8080/",
          "height": 1000
        }
      },
      "outputs": [
        {
          "output_type": "stream",
          "name": "stdout",
          "text": [
            "Varianza total (1 componentes): 12.033916096681404\n",
            "Varianza total (2 componentes): 21.59497049807051\n",
            "Varianza total (3 componentes): 30.039385378081327\n",
            "Varianza total (4 componentes): 36.53779318835145\n",
            "Varianza total (5 componentes): 41.397946240668\n",
            "Varianza total (6 componentes): 45.61205649575996\n",
            "Varianza total (7 componentes): 49.55021715356002\n",
            "Varianza total (8 componentes): 52.94224030055307\n",
            "Varianza total (9 componentes): 55.93812093557017\n",
            "Varianza total (10 componentes): 58.86918149232545\n",
            "Varianza total (11 componentes): 61.654298982136524\n",
            "Varianza total (12 componentes): 64.23076368435359\n",
            "Varianza total (13 componentes): 66.50482285062809\n",
            "Varianza total (14 componentes): 68.73198816950018\n",
            "Varianza total (15 componentes): 70.897087944229\n",
            "Varianza total (16 componentes): 72.81192089936323\n",
            "Varianza total (17 componentes): 74.58693618572029\n",
            "Varianza total (18 componentes): 76.22415909150928\n",
            "Varianza total (19 componentes): 77.8228863941884\n",
            "Varianza total (20 componentes): 79.30959726497153\n",
            "Varianza total (21 componentes): 80.65825210511353\n",
            "Varianza total (22 componentes): 81.93008770628454\n",
            "Varianza total (23 componentes): 83.09350074516783\n",
            "Varianza total (24 componentes): 84.1510009030576\n",
            "Varianza total (25 componentes): 85.12296750736866\n",
            "Varianza total (26 componentes): 86.07249951526735\n",
            "Varianza total (27 componentes): 86.93518972791956\n",
            "Varianza total (28 componentes): 87.77258296733605\n",
            "Varianza total (29 componentes): 88.57139450764319\n",
            "Varianza total (30 componentes): 89.31494838715508\n",
            "Varianza total (31 componentes): 90.04258432447413\n",
            "Varianza total (32 componentes): 90.7357001289944\n",
            "Varianza total (33 componentes): 91.38978476192715\n",
            "Varianza total (34 componentes): 92.02953456467668\n",
            "Varianza total (35 componentes): 92.62113996199037\n",
            "Varianza total (36 componentes): 93.1934777339789\n",
            "Varianza total (37 componentes): 93.71717666466279\n",
            "Varianza total (38 componentes): 94.19933717229976\n",
            "Varianza total (39 componentes): 94.65223741836706\n",
            "Varianza total (40 componentes): 95.07562807614147\n",
            "Varianza total (41 componentes): 95.48322074402685\n",
            "Varianza total (42 componentes): 95.88011167715865\n",
            "Varianza total (43 componentes): 96.23657193261539\n",
            "Varianza total (44 componentes): 96.5771242028496\n",
            "Varianza total (45 componentes): 96.90510373090967\n",
            "Varianza total (46 componentes): 97.2156490963462\n",
            "Varianza total (47 componentes): 97.50556625314651\n",
            "Varianza total (48 componentes): 97.78212696890446\n",
            "Varianza total (49 componentes): 98.04116572295663\n",
            "Varianza total (50 componentes): 98.27586200211938\n",
            "Varianza total (51 componentes): 98.4941763179272\n",
            "Varianza total (52 componentes): 98.6977739524527\n",
            "Varianza total (53 componentes): 98.89328637847252\n",
            "Varianza total (54 componentes): 99.07660487766971\n",
            "Varianza total (55 componentes): 99.2445512651653\n",
            "Varianza total (56 componentes): 99.40578732742202\n",
            "Varianza total (57 componentes): 99.55355002152811\n",
            "Varianza total (58 componentes): 99.6886684328652\n",
            "Varianza total (59 componentes): 99.8137691753625\n",
            "Varianza total (60 componentes): 99.91746490551822\n",
            "Varianza total (61 componentes): 100.00000000000003\n",
            "Varianza total (62 componentes): 100.00000000000003\n",
            "Varianza total (63 componentes): 100.00000000000003\n"
          ]
        },
        {
          "output_type": "display_data",
          "data": {
            "text/plain": [
              "<Figure size 432x288 with 1 Axes>"
            ],
            "image/png": "[encoded data removed]"
          },
          "metadata": {
            "needs_background": "light"
          }
        }
      ],
      "source": [
        "drawVarianza(data)"
      ]
    },
    {
      "cell_type": "markdown",
      "metadata": {
        "id": "3nS8SrouXrKl"
      },
      "source": [
        "*** \n",
        "## Ejercicio\n",
        "En clase hemos visto que para elegir el número de componentes k, debemos tomar el menor k tal que la varianza total sea mayor que el 99%. En nuestro caso, ¿qué valor deberíamos tomar?"
      ]
    },
    {
      "cell_type": "markdown",
      "source": [
        "54 componentes"
      ],
      "metadata": {
        "id": "3LsbrxEHTQiW"
      }
    },
    {
      "cell_type": "markdown",
      "metadata": {
        "id": "rQfBJTZxXrKt"
      },
      "source": [
        "***"
      ]
    },
    {
      "cell_type": "markdown",
      "metadata": {
        "id": "R02t6x4zXrKu"
      },
      "source": [
        "## Ejercicio adicional\n",
        "Recupera los ficheros de la práctica 3 y repite el análisis hecho para el dataset de los dígitos, pero esta vez utilizando el dataset iris.csv.\n"
      ]
    },
    {
      "cell_type": "code",
      "execution_count": null,
      "metadata": {
        "id": "2C3rL00SXrKv"
      },
      "outputs": [],
      "source": [
        ""
      ]
    },
    {
      "cell_type": "markdown",
      "metadata": {
        "id": "2I2SsoPzXszp"
      },
      "source": [
        "## Entrega\n",
        "\n",
        "Recuerda guardar tus cambios en tu repositorio utilizando la opción \"Save a copy in GitHub...\" del menú File."
      ]
    }
  ],
  "metadata": {
    "colab": {
      "name": "practica4_parte3.ipynb",
      "provenance": []
    },
    "kernelspec": {
      "display_name": "Python 3",
      "language": "python",
      "name": "python3"
    },
    "language_info": {
      "codemirror_mode": {
        "name": "ipython",
        "version": 3
      },
      "file_extension": ".py",
      "mimetype": "text/x-python",
      "name": "python",
      "nbconvert_exporter": "python",
      "pygments_lexer": "ipython3",
      "version": "3.6.7"
    }
  },
  "nbformat": 4,
  "nbformat_minor": 0
}